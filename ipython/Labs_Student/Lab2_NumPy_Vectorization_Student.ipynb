{
 "cells": [
  {
   "cell_type": "code",
   "execution_count": 47,
   "metadata": {
    "collapsed": false
   },
   "outputs": [],
   "source": [
    "import warnings\n",
    "warnings.filterwarnings('ignore')\n",
    "import numpy as np\n",
    "import matplotlib.pyplot as plt\n",
    "import math\n",
    "%matplotlib inline"
   ]
  },
  {
   "cell_type": "markdown",
   "metadata": {},
   "source": [
    "First we'll generate a random matrix"
   ]
  },
  {
   "cell_type": "code",
   "execution_count": 48,
   "metadata": {
    "collapsed": false
   },
   "outputs": [
    {
     "data": {
      "text/plain": [
       "array([[ 0.52676002, -1.00953702,  1.39031348,  1.01657513, -0.73234864],\n",
       "       [ 0.27393407, -0.74926293,  0.90190772, -0.19354506, -0.19648097],\n",
       "       [ 0.52498741,  0.76343615,  2.01188093,  0.96949166, -0.7910182 ],\n",
       "       ..., \n",
       "       [ 0.57727939,  2.71839369,  1.81654116,  1.15070916, -0.07654148],\n",
       "       [-0.39367444,  1.37375183,  1.5207987 ,  0.41653279, -0.59070856],\n",
       "       [-1.84423431, -2.07716671, -1.1136898 ,  0.33384966, -0.08884159]])"
      ]
     },
     "execution_count": 48,
     "metadata": {},
     "output_type": "execute_result"
    }
   ],
   "source": [
    "#Number of columns (features)\n",
    "K = 5\n",
    "\n",
    "#Number of records\n",
    "N = 1000\n",
    "\n",
    "#Generate an NxK matrix of uniform random variables\n",
    "X = np.random.randn(N,K) #Student: generate a uniform random matrix here\n",
    "X"
   ]
  },
  {
   "cell_type": "markdown",
   "metadata": {},
   "source": [
    "Let's peak at our data to confirm it looks as we expect it"
   ]
  },
  {
   "cell_type": "code",
   "execution_count": 49,
   "metadata": {
    "collapsed": false
   },
   "outputs": [
    {
     "data": {
      "text/plain": [
       "array([[  5.26760023e-01,  -1.00953702e+00,   1.39031348e+00,\n",
       "          1.01657513e+00,  -7.32348640e-01],\n",
       "       [  2.73934075e-01,  -7.49262926e-01,   9.01907724e-01,\n",
       "         -1.93545061e-01,  -1.96480967e-01],\n",
       "       [  5.24987411e-01,   7.63436148e-01,   2.01188093e+00,\n",
       "          9.69491664e-01,  -7.91018195e-01],\n",
       "       [ -1.93478856e-01,   2.61654755e-01,   7.64886785e-01,\n",
       "          6.75051764e-01,  -7.57298698e-01],\n",
       "       [ -9.50783203e-01,  -1.77284248e+00,  -1.06734290e+00,\n",
       "         -1.39423103e+00,  -3.52931566e-01],\n",
       "       [ -6.26673269e-01,   1.55678608e+00,  -4.26796131e-01,\n",
       "         -6.66975815e-01,   1.27050300e+00],\n",
       "       [  9.92182475e-01,  -1.24051576e+00,   4.12473667e-01,\n",
       "          1.20664890e+00,   1.20038166e+00],\n",
       "       [ -1.14197902e+00,  -2.71965445e+00,   1.15952482e+00,\n",
       "         -1.15010485e+00,   1.93849260e-01],\n",
       "       [ -2.28288524e-01,   9.35162498e-01,  -1.47499761e+00,\n",
       "         -2.57408249e+00,   1.32407940e-01],\n",
       "       [ -1.96228066e+00,   2.18231987e-01,  -1.70778474e-01,\n",
       "          3.59487030e-01,   1.56167523e-01],\n",
       "       [  1.70434170e+00,  -4.15936289e-02,   6.41387388e-02,\n",
       "         -2.15626148e-01,   8.21293755e-01],\n",
       "       [  1.39979189e+00,   7.30089252e-01,  -1.08916757e+00,\n",
       "          4.29479636e-01,  -8.78387622e-01],\n",
       "       [ -2.02368117e+00,   9.78003014e-01,  -2.94176622e-01,\n",
       "         -3.48566220e-01,  -1.18331182e+00],\n",
       "       [ -5.72150951e-01,  -9.63174367e-01,   6.28538664e-01,\n",
       "         -3.79970519e-01,   5.62923020e-01],\n",
       "       [ -1.59102867e+00,   4.87466946e-01,   2.37717530e-01,\n",
       "         -4.20748455e-01,   4.22780809e-01],\n",
       "       [  3.54484052e-01,  -1.02717345e+00,   8.60743591e-01,\n",
       "          3.94266061e-01,   5.50107883e-01],\n",
       "       [  1.05286703e+00,  -1.66159001e-01,   5.47676225e-01,\n",
       "         -1.44759270e+00,  -2.90503748e-01],\n",
       "       [  7.60271420e-01,   3.23577952e-01,   9.90740205e-01,\n",
       "         -8.03812064e-01,  -1.57497530e+00],\n",
       "       [  4.38358852e-01,  -1.52459880e+00,  -1.73294129e+00,\n",
       "          3.98491966e-01,  -8.99809417e-01],\n",
       "       [ -4.64109812e-01,  -9.13807160e-01,  -1.65602094e+00,\n",
       "          7.57495420e-01,   4.60521993e-02],\n",
       "       [ -7.71095773e-01,  -1.17819586e+00,   7.12925005e-01,\n",
       "         -5.25609387e-01,  -5.89521464e-01],\n",
       "       [  8.08891381e-01,   2.99539451e-01,   1.84904006e-01,\n",
       "          3.09886593e-01,   1.29813666e+00],\n",
       "       [ -1.36540101e+00,  -7.74048121e-01,   1.38675203e+00,\n",
       "         -1.52195819e+00,   3.81994625e-01],\n",
       "       [  1.50758775e+00,  -9.71219998e-01,  -1.68665809e+00,\n",
       "          1.92104573e+00,   5.69042410e-01],\n",
       "       [  8.38458253e-01,   5.19127800e-01,  -1.30463671e+00,\n",
       "          4.39756045e-02,  -2.36671239e-01],\n",
       "       [  3.91019545e-01,  -1.90057731e+00,  -1.56142319e+00,\n",
       "         -3.11888852e+00,   5.62084055e-01],\n",
       "       [  2.04353232e+00,  -4.09660247e-02,   8.72991607e-01,\n",
       "         -2.42157222e-02,  -6.56110785e-01],\n",
       "       [ -2.52142237e-02,  -1.29579635e+00,   7.42775954e-01,\n",
       "         -5.90205787e-01,   2.94399598e-01],\n",
       "       [ -4.28662910e-01,   1.00172787e+00,  -7.21185491e-01,\n",
       "         -1.93927946e+00,  -3.88014476e-01],\n",
       "       [ -3.45305257e-02,   4.30080255e-02,   4.63822815e-02,\n",
       "          7.67700481e-01,   1.41886930e+00],\n",
       "       [  6.21087544e-01,   1.57355805e+00,  -7.04040756e-01,\n",
       "         -3.49057497e-01,   8.15411836e-03],\n",
       "       [  8.36549727e-01,  -8.87473618e-02,   8.78857350e-01,\n",
       "         -1.73729516e+00,   1.66792442e+00],\n",
       "       [  4.05098369e-01,  -1.69965074e+00,   1.36831315e-01,\n",
       "          2.88482942e-01,  -1.28241923e+00],\n",
       "       [ -2.89917128e-01,   4.82533727e-01,  -4.53588279e-01,\n",
       "         -8.87100290e-01,  -6.76438979e-02],\n",
       "       [ -3.58375269e-01,  -5.76914340e-02,   3.67282016e-01,\n",
       "         -9.70745493e-01,   9.86579608e-01],\n",
       "       [  3.75813128e-02,   1.72293267e+00,  -5.37648722e-02,\n",
       "         -2.52168612e-03,  -3.67869669e-01],\n",
       "       [ -6.83875635e-01,   1.39402713e+00,   1.10622613e+00,\n",
       "          3.18974450e-01,   1.67088061e+00],\n",
       "       [ -9.47876687e-01,  -4.32151303e-01,  -1.04354404e+00,\n",
       "          3.05351127e-01,  -6.56242984e-01],\n",
       "       [ -1.10577040e-01,   8.73033393e-01,  -3.93404350e-01,\n",
       "          1.95627389e-01,  -4.94515897e-01],\n",
       "       [  2.10437752e-01,   1.71049127e+00,  -2.19820918e-01,\n",
       "         -9.41595320e-01,   1.20842112e+00],\n",
       "       [ -8.85655435e-01,  -4.07961515e-01,   7.38985348e-01,\n",
       "         -2.03767657e-01,  -2.42810636e+00],\n",
       "       [  7.65563077e-01,   4.49902115e-01,   1.10605771e+00,\n",
       "          7.95899634e-01,  -7.63114685e-01],\n",
       "       [  9.96189995e-01,   2.03898962e-03,   9.71257494e-01,\n",
       "          9.31583855e-01,   2.27120188e+00],\n",
       "       [ -3.89491913e-01,  -2.18812575e-01,  -7.03378429e-01,\n",
       "          4.59277915e-01,  -5.86043976e-02],\n",
       "       [ -1.54656753e+00,  -8.68615139e-01,   2.32662539e+00,\n",
       "          1.45452533e+00,   7.75456556e-01],\n",
       "       [  1.36893136e-01,   1.48178353e-02,   6.45450843e-01,\n",
       "          1.12995185e-01,   1.94556732e+00],\n",
       "       [  2.53349458e-01,   7.65075306e-01,  -1.41470039e+00,\n",
       "          8.00056089e-01,   1.60280791e-01],\n",
       "       [  1.09054144e+00,  -2.56048845e+00,  -1.13787907e+00,\n",
       "          6.71742571e-01,   7.33514575e-01],\n",
       "       [  6.79405096e-01,   5.61691893e-01,   9.97796602e-01,\n",
       "          1.15808580e+00,  -1.03265383e+00],\n",
       "       [  6.14350276e-01,   5.78496609e-01,  -4.46310553e-01,\n",
       "         -7.14539770e-01,   1.36873045e-01],\n",
       "       [  8.35266283e-03,   6.16045042e-01,   1.22427822e+00,\n",
       "          2.00123707e+00,  -3.82108991e-01],\n",
       "       [ -4.56827970e-01,  -1.95615015e-01,  -1.89620288e-01,\n",
       "          2.44224774e-01,   7.24068507e-01],\n",
       "       [ -2.77549437e-01,  -8.70537669e-01,  -7.43024683e-01,\n",
       "         -1.73913433e+00,  -1.26617586e-01],\n",
       "       [  2.25918370e+00,   2.65978748e-01,  -4.11798295e-01,\n",
       "          9.74697629e-01,   1.30645190e-01],\n",
       "       [  6.01316110e-01,   1.06581536e-01,   5.72995123e-01,\n",
       "         -1.98602131e-02,   1.18135700e+00],\n",
       "       [ -1.02457467e+00,  -1.68184941e-01,   1.16436274e+00,\n",
       "          4.34302709e-01,   3.22430197e-02],\n",
       "       [  8.49685215e-01,  -6.50590533e-01,  -1.13244673e+00,\n",
       "         -4.18070348e-01,  -6.16537635e-01],\n",
       "       [  3.53337349e-01,   2.42722761e-01,   1.23396649e+00,\n",
       "         -2.16556985e+00,  -9.80961466e-02],\n",
       "       [ -1.93261480e-01,  -2.02841667e+00,  -9.90914906e-01,\n",
       "         -5.92903964e-01,  -7.09072815e-01],\n",
       "       [  6.88124835e-01,  -3.98551621e-01,  -2.40111343e-01,\n",
       "          7.95548495e-01,   1.84314432e-01],\n",
       "       [ -4.93025038e-01,  -2.32531173e-01,   2.89444287e-01,\n",
       "         -1.34430553e+00,   7.48907029e-01],\n",
       "       [ -3.21774768e+00,  -1.04928562e+00,  -8.29394280e-01,\n",
       "         -1.40938927e-01,   1.54907703e+00],\n",
       "       [  1.93837542e+00,  -1.29796058e-01,   6.88630905e-02,\n",
       "         -7.78728244e-01,   6.74074303e-01],\n",
       "       [ -1.06221998e+00,   6.72281793e-01,  -1.79085573e+00,\n",
       "         -7.23287266e-01,  -9.88363472e-01],\n",
       "       [ -5.30452475e-01,  -2.32238520e-01,  -1.00373039e+00,\n",
       "         -8.73111823e-01,  -1.33637080e+00],\n",
       "       [  5.49420950e-01,   9.60291110e-01,  -1.53443579e+00,\n",
       "          3.87633697e-01,  -7.42052911e-01],\n",
       "       [ -2.03952404e+00,   6.59166598e-01,   1.33619184e+00,\n",
       "          1.61243455e+00,  -7.32771475e-01],\n",
       "       [ -2.92759071e-03,  -2.86718105e-01,  -1.68665819e-01,\n",
       "          8.54124549e-01,  -1.72492271e-01],\n",
       "       [  4.22375288e-01,  -5.49914485e-01,  -2.00380916e-01,\n",
       "         -3.39106160e-01,   1.09720990e+00],\n",
       "       [  3.78136766e-01,  -9.28767686e-01,   1.90748736e+00,\n",
       "          3.57099362e-01,   1.47208978e+00],\n",
       "       [ -2.00690646e+00,  -1.37272743e+00,   2.05671931e-02,\n",
       "          3.33470668e-02,  -9.74864606e-01],\n",
       "       [ -8.22814147e-01,  -8.77071611e-02,  -8.83235093e-01,\n",
       "         -3.06015143e+00,   1.18538822e+00],\n",
       "       [ -6.21711965e-02,   6.26529793e-02,   1.99661564e-02,\n",
       "          4.15522134e-01,   1.30792513e+00],\n",
       "       [ -1.16591443e-01,   3.22689056e-03,  -5.73278921e-01,\n",
       "         -1.78605856e+00,  -3.68452531e-01],\n",
       "       [  1.46965512e+00,  -4.56611200e-01,   2.73801215e-01,\n",
       "          7.69135413e-01,   1.39815903e+00],\n",
       "       [  5.16665815e-01,  -4.47049437e-01,   1.10177936e+00,\n",
       "         -1.35103134e+00,  -1.50218464e+00],\n",
       "       [  4.14830742e-01,  -1.02041933e+00,   6.10505608e-01,\n",
       "          7.76332841e-01,   1.95578801e-01],\n",
       "       [ -3.71432636e-01,  -1.37586961e+00,  -5.68174843e-01,\n",
       "         -4.30128441e-01,   1.19178901e+00],\n",
       "       [  7.32631250e-01,  -7.30196760e-02,  -1.53002463e-01,\n",
       "         -2.28860458e-01,   1.25744935e+00],\n",
       "       [ -3.05723404e-01,  -1.58302404e-01,   1.09290315e+00,\n",
       "          2.83292091e-01,   2.54880361e-01],\n",
       "       [  3.28559530e-02,   1.48418612e-01,   8.95389552e-02,\n",
       "         -7.88454968e-01,  -1.49764253e-02],\n",
       "       [  1.31307232e-01,  -2.04888303e+00,  -1.02078547e+00,\n",
       "          1.25084796e-01,   9.83259141e-02],\n",
       "       [ -2.63234416e+00,   1.78271824e+00,   3.30152020e-01,\n",
       "          4.44408002e-01,   1.52942498e+00],\n",
       "       [ -4.74541381e-01,  -4.83243505e-01,  -6.15127891e-01,\n",
       "          1.04666460e+00,  -2.02225277e+00],\n",
       "       [  6.01187385e-01,   1.16671589e+00,   1.55871433e+00,\n",
       "         -8.05912826e-01,  -7.36694056e-01],\n",
       "       [  5.63750798e-01,  -1.82907251e+00,  -2.95753963e-01,\n",
       "          1.94645200e+00,  -1.57699272e-01],\n",
       "       [  6.49254813e-01,   4.59161403e-01,   4.73641656e-01,\n",
       "         -6.47009941e-02,  -1.34654231e+00],\n",
       "       [  9.15030168e-01,  -5.91028472e-01,  -1.21701469e+00,\n",
       "         -1.65103737e-01,  -3.20480564e-01],\n",
       "       [ -1.96020159e+00,   9.05383850e-01,  -4.41550973e-01,\n",
       "         -1.19598082e+00,   6.52322174e-01],\n",
       "       [  1.28132725e+00,   1.09411682e+00,  -1.26383407e+00,\n",
       "         -8.07796946e-01,   4.40006819e-03],\n",
       "       [  6.19711192e-01,   1.63694294e+00,  -7.02532183e-01,\n",
       "          2.91988759e-01,   2.49178740e-01],\n",
       "       [  1.93684495e+00,  -2.91457149e-01,  -9.92425099e-01,\n",
       "          5.77077130e-01,   1.42932149e-01],\n",
       "       [ -2.48124071e+00,   1.52163500e-01,   1.54355007e+00,\n",
       "         -4.21255355e-01,   6.86604818e-01],\n",
       "       [ -1.22879067e-02,   1.31316031e-01,  -5.61046377e-01,\n",
       "          1.03821827e+00,   3.58356352e-01],\n",
       "       [ -7.84385916e-01,  -5.93737681e-01,   7.23708217e-01,\n",
       "          3.07243139e-01,   1.27019738e+00],\n",
       "       [ -2.11354482e+00,  -1.56654588e-01,   1.19552426e+00,\n",
       "          1.71179445e+00,  -6.16296592e-01],\n",
       "       [ -3.93920256e-03,   1.58189566e+00,   6.32595008e-01,\n",
       "          6.53886729e-01,   4.35647515e-01],\n",
       "       [  2.34232738e-01,   1.81641053e+00,   7.14550978e-01,\n",
       "          2.74069146e+00,   2.35054142e+00],\n",
       "       [ -6.81351898e-01,   4.91723459e-01,  -1.46137875e-01,\n",
       "          1.03007361e+00,  -5.37408474e-01],\n",
       "       [  6.06434599e-01,   1.53427639e-02,  -1.14778777e+00,\n",
       "          6.86842787e-01,  -3.99263664e-01]])"
      ]
     },
     "execution_count": 49,
     "metadata": {},
     "output_type": "execute_result"
    }
   ],
   "source": [
    "#Student - Put in a command to view the first 100 rows\n",
    "X[:100]"
   ]
  },
  {
   "cell_type": "code",
   "execution_count": 8,
   "metadata": {
    "collapsed": false
   },
   "outputs": [
    {
     "data": {
      "text/plain": [
       "(1000, 5)"
      ]
     },
     "execution_count": 8,
     "metadata": {},
     "output_type": "execute_result"
    }
   ],
   "source": [
    "#Student - put in a command to see the dimensions of X\n",
    "X.shape"
   ]
  },
  {
   "cell_type": "markdown",
   "metadata": {},
   "source": [
    "This exercise is about designing a scoring function for a logistic regression. As we are not concerned with fitting a model to data, we can just make up a logistic regression. <br> <br>\n",
    "\n",
    "For quick intro, the Logistic Regression takes the form of $\\hat{Y} = f(x * \\beta^T)$, where $x$ is the $1xK$ vector of features and $\\beta$ is the $1xK$ vector of weights. The function $f$, called a 'link' function, is the inverse logit: <br><br>\n",
    "\n",
    "<center>$f(a)=\\frac{1}{1+e^{-a}}$</center> <br><br>\n",
    "\n",
    "In this notebook we'll write a function that, given inputs of $X$ and $\\beta$, returns a value for $\\hat{Y}$.\n",
    "<br><br>\n",
    "First let's generate a random set of weights to represent $\\beta$.\n"
   ]
  },
  {
   "cell_type": "code",
   "execution_count": 50,
   "metadata": {
    "collapsed": false
   },
   "outputs": [
    {
     "data": {
      "text/plain": [
       "array([ 0.15433059, -0.38864856, -0.41655959,  0.21029285, -0.12457922])"
      ]
     },
     "execution_count": 50,
     "metadata": {},
     "output_type": "execute_result"
    }
   ],
   "source": [
    "#Student - generate a K dimensional vector of uniform random variables in the interval [-1, 1]\n",
    "beta = np.random.random(K)#input command here\n",
    "beta = beta*2 - 1\n",
    "beta"
   ]
  },
  {
   "cell_type": "markdown",
   "metadata": {},
   "source": [
    "Notice how we applied a neat NumPy trick here. The numpy.random.random() function returns an array, yet we applied what appears to be a scalar operation on the vector. This is an example of what NumPy calls vectorization (a major point of this tutorial), which offers us both a very fast way to do run vector computations as well as a clean and concise method of coding. \n",
    "\n",
    "<br><br>\n",
    "\n",
    "<b>Question: we designed the above $beta$ vector such that $E[\\beta_i]=0$. How can we confirm that we did this correctly?</b>"
   ]
  },
  {
   "cell_type": "code",
   "execution_count": 51,
   "metadata": {
    "collapsed": false
   },
   "outputs": [
    {
     "data": {
      "text/plain": [
       "-0.11303278537861527"
      ]
     },
     "execution_count": 51,
     "metadata": {},
     "output_type": "execute_result"
    }
   ],
   "source": [
    "#start by taking the mean of the beta we already calculated\n",
    "beta.mean()\n",
    "#Student - fill in command here\n",
    "\n"
   ]
  },
  {
   "cell_type": "code",
   "execution_count": 52,
   "metadata": {
    "collapsed": false
   },
   "outputs": [],
   "source": [
    "#It is likely the above is not equal to zero. Let's simulate this 100k times and see what the distribution of means is\n",
    "#Student input code here\n",
    "means = []\n",
    "\n",
    "for i in range(1000):\n",
    "    beta = np.random.random(K)#input command here\n",
    "    beta = beta*2 - 1\n",
    "    means.append(beta.mean())\n"
   ]
  },
  {
   "cell_type": "markdown",
   "metadata": {},
   "source": [
    "Now let's use matplotlibs hist function to plot the histogram of means here. "
   ]
  },
  {
   "cell_type": "code",
   "execution_count": 53,
   "metadata": {
    "collapsed": false
   },
   "outputs": [
    {
     "data": {
      "image/png": "[encoded data removed]",
      "text/plain": [
       "<matplotlib.figure.Figure at 0x104da9b38>"
      ]
     },
     "metadata": {},
     "output_type": "display_data"
    }
   ],
   "source": [
    "plt.hist(means)\n",
    "plt.show()"
   ]
  },
  {
   "cell_type": "markdown",
   "metadata": {},
   "source": [
    "We should expect the distribution to be centered around zero. Is it?"
   ]
  },
  {
   "cell_type": "markdown",
   "metadata": {},
   "source": [
    "Now let's write our scoring function. Let's try to use as much of Numpy's inner optimization as possible (hint, this can be done in two lines and without writing any loops)."
   ]
  },
  {
   "cell_type": "code",
   "execution_count": 65,
   "metadata": {
    "collapsed": true
   },
   "outputs": [],
   "source": [
    "def score_logistic_regression(X, beta):\n",
    "    '''\n",
    "    This function takes in an NxK matrix X and 1xK vector beta.\n",
    "    The function should apply the logistic scoring function to each record of X.\n",
    "    The output should be an Nx1 vector of scores\n",
    "    '''\n",
    "    \n",
    "    #First let's calculate X*beta - make sure to use numpy's 'dot' method\n",
    "    a = X.dot(beta)\n",
    "    #student - put in code here\n",
    "    \n",
    "    #Now let's input this into the link function\n",
    "    prob_score = 1./(1+np.exp(-a))\n",
    "    #student - put in code here\n",
    "\n",
    "    return prob_score"
   ]
  },
  {
   "cell_type": "markdown",
   "metadata": {},
   "source": [
    "So how much faster is it by using Numpy? We can test this be writing the same function that uses no Numpy and executes via loops."
   ]
  },
  {
   "cell_type": "code",
   "execution_count": 66,
   "metadata": {
    "collapsed": false
   },
   "outputs": [],
   "source": [
    "def score_logistic_regression_NoNumpy(X, beta):\n",
    "    '''\n",
    "    This function takes in an NxK matrix X and 1xK vector beta.\n",
    "    The function should apply the logistic scoring function to each record of X.\n",
    "    The output should be an Nx1 vector of scores\n",
    "    '''\n",
    "    #Let's calculate xbeta using loops\n",
    "    xbeta = []\n",
    "    for row in X:\n",
    "        \n",
    "        xb = 0\n",
    "        for i, el in enumerate(row):\n",
    "            xb += el * beta[i]\n",
    "        \n",
    "        xbeta.append(xb)\n",
    "        \n",
    "    #Now let's apply the link function to each xbeta\n",
    "    prob_score = []\n",
    "    for xb in xbeta:\n",
    "        prob_score.append(1 / (1 + np.exp(-1 * xb)))\n",
    "        \n",
    "    return prob_score"
   ]
  },
  {
   "cell_type": "markdown",
   "metadata": {},
   "source": [
    "Before doing any analysis, let's test the output of each to make sure they equal"
   ]
  },
  {
   "cell_type": "code",
   "execution_count": 75,
   "metadata": {
    "collapsed": false
   },
   "outputs": [
    {
     "data": {
      "text/plain": [
       "3.4694469519536144e-19"
      ]
     },
     "execution_count": 75,
     "metadata": {},
     "output_type": "execute_result"
    }
   ],
   "source": [
    "#Student - write a unit test that calls each function with the same inputs and checks to see they return the same values.\n",
    "a = score_logistic_regression(X, beta)\n",
    "b = score_logistic_regression_NoNumpy(X, beta)\n",
    "diff = a-b\n",
    "diff.mean()"
   ]
  },
  {
   "cell_type": "markdown",
   "metadata": {},
   "source": [
    "If they equal then we can proceed with timing analysis"
   ]
  },
  {
   "cell_type": "code",
   "execution_count": 69,
   "metadata": {
    "collapsed": false
   },
   "outputs": [
    {
     "name": "stdout",
     "output_type": "stream",
     "text": [
      "100 loops, best of 3: 3.87 ms per loop\n"
     ]
    }
   ],
   "source": [
    "%timeit score_logistic_regression_NoNumpy(X, beta)"
   ]
  },
  {
   "cell_type": "code",
   "execution_count": 70,
   "metadata": {
    "collapsed": false
   },
   "outputs": [
    {
     "name": "stdout",
     "output_type": "stream",
     "text": [
      "The slowest run took 16.48 times longer than the fastest. This could mean that an intermediate result is being cached.\n",
      "100000 loops, best of 3: 15.7 µs per loop\n"
     ]
    }
   ],
   "source": [
    "%timeit score_logistic_regression(X, beta)"
   ]
  },
  {
   "cell_type": "markdown",
   "metadata": {},
   "source": []
  },
  {
   "cell_type": "code",
   "execution_count": null,
   "metadata": {
    "collapsed": true
   },
   "outputs": [],
   "source": []
  }
 ],
 "metadata": {
  "anaconda-cloud": {},
  "kernelspec": {
   "display_name": "Python 3",
   "language": "python",
   "name": "python3"
  },
  "language_info": {
   "codemirror_mode": {
    "name": "ipython",
    "version": 3
   },
   "file_extension": ".py",
   "mimetype": "text/x-python",
   "name": "python",
   "nbconvert_exporter": "python",
   "pygments_lexer": "ipython3",
   "version": "3.6.0"
  }
 },
 "nbformat": 4,
 "nbformat_minor": 0
}
